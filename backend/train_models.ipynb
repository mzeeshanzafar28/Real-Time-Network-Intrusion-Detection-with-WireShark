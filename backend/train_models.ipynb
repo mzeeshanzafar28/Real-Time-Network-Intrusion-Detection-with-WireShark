{
 "cells": [
  {
   "cell_type": "code",
   "execution_count": 1,
   "id": "fb0967d7",
   "metadata": {},
   "outputs": [
    {
     "name": "stdout",
     "output_type": "stream",
     "text": [
      "Note: you may need to restart the kernel to use updated packages.\n"
     ]
    }
   ],
   "source": [
    "%pip install -q catboost lightgbm pytorch-tabnet kagglehub scikit-learn pandas Flask wheel\n"
   ]
  },
  {
   "cell_type": "code",
   "execution_count": 2,
   "id": "b71623e1",
   "metadata": {},
   "outputs": [
    {
     "name": "stdout",
     "output_type": "stream",
     "text": [
      "Note: you may need to restart the kernel to use updated packages.\n"
     ]
    }
   ],
   "source": [
    "%pip install -q numpy==1.26.4 pandas==2.2.2 --force-reinstall"
   ]
  },
  {
   "cell_type": "code",
   "execution_count": 3,
   "id": "0410fdf0",
   "metadata": {},
   "outputs": [
    {
     "name": "stderr",
     "output_type": "stream",
     "text": [
      "c:\\Users\\Zeeshan\\Desktop\\Real-Time-Network-Intrusion-Detection-with-WireShark\\.venv\\Lib\\site-packages\\tqdm\\auto.py:21: TqdmWarning: IProgress not found. Please update jupyter and ipywidgets. See https://ipywidgets.readthedocs.io/en/stable/user_install.html\n",
      "  from .autonotebook import tqdm as notebook_tqdm\n"
     ]
    }
   ],
   "source": [
    "import kagglehub\n",
    "import pandas as pd\n",
    "import numpy as np\n",
    "import os\n",
    "import pickle\n",
    "import torch\n",
    "import lightgbm as lgb\n",
    "\n",
    "from catboost import CatBoostClassifier\n",
    "from pytorch_tabnet.tab_model import TabNetClassifier\n",
    "\n",
    "from sklearn.preprocessing import OneHotEncoder, StandardScaler\n",
    "from sklearn.compose import ColumnTransformer\n",
    "from sklearn.metrics import accuracy_score, precision_score, recall_score, f1_score\n",
    "from sklearn.model_selection import train_test_split\n",
    "\n",
    "from lightgbm import early_stopping, log_evaluation\n"
   ]
  },
  {
   "cell_type": "code",
   "execution_count": 4,
   "id": "ed759d26",
   "metadata": {},
   "outputs": [
    {
     "name": "stdout",
     "output_type": "stream",
     "text": [
      "Path to dataset files: C:\\Users\\Zeeshan\\.cache\\kagglehub\\datasets\\hassan06\\nslkdd\\versions\\1\n"
     ]
    }
   ],
   "source": [
    "path = kagglehub.dataset_download(\"hassan06/nslkdd\")\n",
    "print(\"Path to dataset files:\", path)\n",
    "\n",
    "train_file_path = os.path.join(path, 'KDDTrain+.txt')\n",
    "test_file_path = os.path.join(path, 'KDDTest+.txt')\n",
    "\n",
    "column_names = ['duration', 'protocol_type', 'service', 'flag', 'src_bytes', 'dst_bytes',\n",
    "    'land', 'wrong_fragment', 'urgent', 'hot', 'num_failed_logins', 'logged_in',\n",
    "    'num_compromised', 'root_shell', 'su_attempted', 'num_root',\n",
    "    'num_file_creations', 'num_shells', 'num_access_files', 'num_outbound_cmds',\n",
    "    'is_host_login', 'is_guest_login', 'count', 'srv_count', 'serror_rate',\n",
    "    'srv_serror_rate', 'rerror_rate', 'srv_rerror_rate', 'same_srv_rate',\n",
    "    'diff_srv_rate', 'srv_diff_host_rate', 'dst_host_count', 'dst_host_srv_count',\n",
    "    'dst_host_same_srv_rate', 'dst_host_diff_srv_rate', 'dst_host_same_src_port_rate',\n",
    "    'dst_host_srv_diff_host_rate', 'dst_host_serror_rate', 'dst_host_srv_serror_rate',\n",
    "    'dst_host_rerror_rate', 'dst_host_srv_rerror_rate', 'label', 'difficulty']\n",
    "\n",
    "wireshark_features = ['duration', 'protocol_type', 'service', 'flag', 'src_bytes',\n",
    "                      'dst_bytes', 'land', 'wrong_fragment', 'urgent', 'label']\n",
    "\n",
    "df_train = pd.read_csv(train_file_path, names=column_names, index_col=False)\n",
    "df_test  = pd.read_csv(test_file_path, names=column_names, index_col=False)\n",
    "df_train = df_train[wireshark_features]\n",
    "df_test  = df_test[wireshark_features]\n",
    "\n",
    "def convert_label(x):\n",
    "    return 0 if str(x).strip().lower() == 'normal' else 1\n",
    "\n",
    "df_train['label'] = df_train['label'].apply(convert_label)\n",
    "df_test['label']  = df_test['label'].apply(convert_label)\n",
    "\n",
    "categorical_features = ['protocol_type', 'service', 'flag']\n",
    "numerical_features = [col for col in wireshark_features if col not in categorical_features + ['label']]\n",
    "\n",
    "df_combined = pd.concat([df_train, df_test], ignore_index=True)\n",
    "preprocessor = ColumnTransformer([\n",
    "    ('cat', OneHotEncoder(handle_unknown='ignore'), categorical_features),\n",
    "    ('num', StandardScaler(), numerical_features)\n",
    "])\n",
    "\n",
    "X_combined = df_combined.drop('label', axis=1)\n",
    "y_combined = df_combined['label']\n",
    "\n",
    "X_train = X_combined.iloc[:len(df_train), :]\n",
    "X_test  = X_combined.iloc[len(df_train):, :]\n",
    "y_train = y_combined.iloc[:len(df_train)]\n",
    "y_test  = y_combined.iloc[len(df_train):]\n",
    "\n",
    "X_train = preprocessor.fit_transform(X_train)\n",
    "X_test  = preprocessor.transform(X_test)\n",
    "\n",
    "with open('preprocessor.pkl', 'wb') as f:\n",
    "    pickle.dump(preprocessor, f)\n"
   ]
  },
  {
   "cell_type": "code",
   "execution_count": 5,
   "id": "58202412",
   "metadata": {},
   "outputs": [
    {
     "name": "stdout",
     "output_type": "stream",
     "text": [
      "0:\tlearn: 0.4652940\ttest: 0.5415290\tbest: 0.5415290 (0)\ttotal: 207ms\tremaining: 3m 26s\n",
      "Stopped by overfitting detector  (10 iterations wait)\n",
      "\n",
      "bestTest = 0.3880590668\n",
      "bestIteration = 5\n",
      "\n",
      "Shrink model to first 6 iterations.\n",
      "CatBoost Metrics:\n",
      "  Accuracy: 0.84\n",
      "  Precision: 0.96\n",
      "  Recall: 0.75\n",
      "  F1 Score: 0.84\n"
     ]
    }
   ],
   "source": [
    "catboost_model = CatBoostClassifier(iterations=1000, learning_rate=0.1, depth=6, verbose=200)\n",
    "catboost_model.fit(X_train, y_train, eval_set=(X_test, y_test), early_stopping_rounds=10)\n",
    "\n",
    "y_pred_cat = catboost_model.predict(X_test)\n",
    "cat_accuracy  = accuracy_score(y_test, y_pred_cat)\n",
    "cat_precision = precision_score(y_test, y_pred_cat)\n",
    "cat_recall    = recall_score(y_test, y_pred_cat)\n",
    "cat_f1        = f1_score(y_test, y_pred_cat)\n",
    "\n",
    "print(\"CatBoost Metrics:\")\n",
    "print(f\"  Accuracy: {cat_accuracy:.2f}\")\n",
    "print(f\"  Precision: {cat_precision:.2f}\")\n",
    "print(f\"  Recall: {cat_recall:.2f}\")\n",
    "print(f\"  F1 Score: {cat_f1:.2f}\")\n"
   ]
  },
  {
   "cell_type": "code",
   "execution_count": 6,
   "id": "33f7ab20",
   "metadata": {},
   "outputs": [
    {
     "name": "stdout",
     "output_type": "stream",
     "text": [
      "[LightGBM] [Info] Number of positive: 58630, number of negative: 67343\n",
      "[LightGBM] [Info] Auto-choosing row-wise multi-threading, the overhead of testing was 0.007252 seconds.\n",
      "You can set `force_row_wise=true` to remove the overhead.\n",
      "And if memory is not enough, you can set `force_col_wise=true`.\n",
      "[LightGBM] [Info] Total Bins 922\n",
      "[LightGBM] [Info] Number of data points in the train set: 125973, number of used features: 80\n",
      "[LightGBM] [Info] [binary:BoostFromScore]: pavg=0.465417 -> initscore=-0.138552\n",
      "[LightGBM] [Info] Start training from score -0.138552\n",
      "Training until validation scores don't improve for 10 rounds\n",
      "Early stopping, best iteration is:\n",
      "[21]\tvalid_0's binary_error: 0.149264\n",
      "\n",
      "LightGBM Metrics:\n",
      "  Accuracy: 0.85\n",
      "  Precision: 0.97\n",
      "  Recall: 0.76\n",
      "  F1 Score: 0.85\n"
     ]
    }
   ],
   "source": [
    "train_data = lgb.Dataset(X_train, label=y_train)\n",
    "valid_data = lgb.Dataset(X_test, label=y_test, reference=train_data)\n",
    "\n",
    "lgb_model = lgb.train(\n",
    "    {\n",
    "        'objective': 'binary',\n",
    "        'metric': 'binary_error',\n",
    "        'boosting_type': 'gbdt',\n",
    "        'num_leaves': 31,\n",
    "        'learning_rate': 0.1,\n",
    "        'feature_fraction': 0.9\n",
    "    },\n",
    "    train_data,\n",
    "    num_boost_round=1000,\n",
    "    valid_sets=[valid_data],\n",
    "    callbacks=[early_stopping(stopping_rounds=10), log_evaluation(100)]\n",
    ")\n",
    "\n",
    "y_pred_lgb = (lgb_model.predict(X_test) >= 0.5).astype(int)\n",
    "lgb_accuracy  = accuracy_score(y_test, y_pred_lgb)\n",
    "lgb_precision = precision_score(y_test, y_pred_lgb)\n",
    "lgb_recall    = recall_score(y_test, y_pred_lgb)\n",
    "lgb_f1        = f1_score(y_test, y_pred_lgb)\n",
    "\n",
    "print(\"\\nLightGBM Metrics:\")\n",
    "print(f\"  Accuracy: {lgb_accuracy:.2f}\")\n",
    "print(f\"  Precision: {lgb_precision:.2f}\")\n",
    "print(f\"  Recall: {lgb_recall:.2f}\")\n",
    "print(f\"  F1 Score: {lgb_f1:.2f}\")\n"
   ]
  },
  {
   "cell_type": "code",
   "execution_count": 8,
   "id": "59b98012",
   "metadata": {},
   "outputs": [
    {
     "name": "stderr",
     "output_type": "stream",
     "text": [
      "c:\\Users\\Zeeshan\\Desktop\\Real-Time-Network-Intrusion-Detection-with-WireShark\\.venv\\Lib\\site-packages\\pytorch_tabnet\\abstract_model.py:82: UserWarning: Device used : cpu\n",
      "  warnings.warn(f\"Device used : {self.device}\")\n"
     ]
    },
    {
     "name": "stdout",
     "output_type": "stream",
     "text": [
      "epoch 0  | loss: 0.21893 | val_0_auc: 0.7324  |  0:00:22s\n",
      "epoch 1  | loss: 0.10504 | val_0_auc: 0.73311 |  0:00:40s\n",
      "epoch 2  | loss: 0.09628 | val_0_auc: 0.93909 |  0:01:01s\n",
      "epoch 3  | loss: 0.09157 | val_0_auc: 0.93383 |  0:01:19s\n",
      "epoch 4  | loss: 0.0906  | val_0_auc: 0.76017 |  0:01:40s\n",
      "epoch 5  | loss: 0.09013 | val_0_auc: 0.91617 |  0:01:59s\n",
      "epoch 6  | loss: 0.0889  | val_0_auc: 0.94618 |  0:02:17s\n",
      "epoch 7  | loss: 0.08861 | val_0_auc: 0.91547 |  0:02:36s\n",
      "epoch 8  | loss: 0.08698 | val_0_auc: 0.94665 |  0:02:55s\n",
      "epoch 9  | loss: 0.087   | val_0_auc: 0.60365 |  0:03:15s\n",
      "epoch 10 | loss: 0.08633 | val_0_auc: 0.6049  |  0:03:35s\n",
      "epoch 11 | loss: 0.08569 | val_0_auc: 0.8648  |  0:03:56s\n",
      "epoch 12 | loss: 0.08491 | val_0_auc: 0.63445 |  0:04:14s\n",
      "epoch 13 | loss: 0.08452 | val_0_auc: 0.72411 |  0:04:33s\n",
      "epoch 14 | loss: 0.08654 | val_0_auc: 0.93389 |  0:04:51s\n",
      "Stop training because you reached max_epochs = 15 with best_epoch = 8 and best_val_0_auc = 0.94665\n"
     ]
    },
    {
     "name": "stderr",
     "output_type": "stream",
     "text": [
      "c:\\Users\\Zeeshan\\Desktop\\Real-Time-Network-Intrusion-Detection-with-WireShark\\.venv\\Lib\\site-packages\\pytorch_tabnet\\callbacks.py:172: UserWarning: Best weights from best epoch are automatically used!\n",
      "  warnings.warn(wrn_msg)\n"
     ]
    },
    {
     "name": "stdout",
     "output_type": "stream",
     "text": [
      "\n",
      "TabNet Metrics:\n",
      "  Accuracy: 0.78\n",
      "  Precision: 0.90\n",
      "  Recall: 0.70\n",
      "  F1 Score: 0.79\n"
     ]
    }
   ],
   "source": [
    "tabnet_model = TabNetClassifier(\n",
    "    n_d=8, n_a=8, n_steps=3, gamma=1.3, lambda_sparse=1e-5,\n",
    "    optimizer_fn=torch.optim.Adam,\n",
    "    optimizer_params=dict(lr=2e-2),\n",
    "    mask_type=\"entmax\"\n",
    ")\n",
    "\n",
    "tabnet_model.fit(\n",
    "    X_train, y_train.values,\n",
    "    eval_set=[(X_test, y_test.values)],\n",
    "    max_epochs=15, patience=10,\n",
    "    batch_size=1024, virtual_batch_size=128\n",
    ")\n",
    "\n",
    "y_pred_tabnet = tabnet_model.predict(X_test)\n",
    "tabnet_accuracy  = accuracy_score(y_test, y_pred_tabnet)\n",
    "tabnet_precision = precision_score(y_test, y_pred_tabnet)\n",
    "tabnet_recall    = recall_score(y_test, y_pred_tabnet)\n",
    "tabnet_f1        = f1_score(y_test, y_pred_tabnet)\n",
    "\n",
    "print(\"\\nTabNet Metrics:\")\n",
    "print(f\"  Accuracy: {tabnet_accuracy:.2f}\")\n",
    "print(f\"  Precision: {tabnet_precision:.2f}\")\n",
    "print(f\"  Recall: {tabnet_recall:.2f}\")\n",
    "print(f\"  F1 Score: {tabnet_f1:.2f}\")\n"
   ]
  },
  {
   "cell_type": "code",
   "execution_count": 11,
   "id": "cedde6eb",
   "metadata": {},
   "outputs": [
    {
     "name": "stdout",
     "output_type": "stream",
     "text": [
      "\n",
      "-------------------------\n",
      "Model Comparison (Based on F1 Score):\n",
      "  CatBoost: F1 Score = 0.84\n",
      "  LightGBM: F1 Score = 0.85\n",
      "  TabNet: F1 Score = 0.79\n",
      "\n",
      "Most Efficient Model: LightGBM (Highest F1 Score)\n",
      "Best model saved as c:\\Users\\Zeeshan\\Desktop\\Real-Time-Network-Intrusion-Detection-with-WireShark\\backend\\best_model.pkl\n"
     ]
    }
   ],
   "source": [
    "model_metrics = {\n",
    "    \"CatBoost\": cat_f1,\n",
    "    \"LightGBM\": lgb_f1,\n",
    "    \"TabNet\": tabnet_f1\n",
    "}\n",
    "\n",
    "best_model_name = max(model_metrics, key=model_metrics.get)\n",
    "print(\"\\n-------------------------\")\n",
    "print(\"Model Comparison (Based on F1 Score):\")\n",
    "for model_name, f1 in model_metrics.items():\n",
    "    print(f\"  {model_name}: F1 Score = {f1:.2f}\")\n",
    "\n",
    "print(f\"\\nMost Efficient Model: {best_model_name} (Highest F1 Score)\")\n",
    "\n",
    "if best_model_name == \"CatBoost\":\n",
    "    best_model_obj = catboost_model\n",
    "elif best_model_name == \"LightGBM\":\n",
    "    best_model_obj = lgb_model\n",
    "elif best_model_name == \"TabNet\":\n",
    "    best_model_obj = tabnet_model\n",
    "\n",
    "best_model_filename = os.path.join(os.getcwd(), 'best_model.pkl')\n",
    "with open(best_model_filename, 'wb') as f:\n",
    "    pickle.dump(best_model_obj, f)\n",
    "\n",
    "print(f\"Best model saved as {best_model_filename}\")"
   ]
  }
 ],
 "metadata": {
  "kernelspec": {
   "display_name": ".venv",
   "language": "python",
   "name": "python3"
  },
  "language_info": {
   "codemirror_mode": {
    "name": "ipython",
    "version": 3
   },
   "file_extension": ".py",
   "mimetype": "text/x-python",
   "name": "python",
   "nbconvert_exporter": "python",
   "pygments_lexer": "ipython3",
   "version": "3.11.0"
  }
 },
 "nbformat": 4,
 "nbformat_minor": 5
}
